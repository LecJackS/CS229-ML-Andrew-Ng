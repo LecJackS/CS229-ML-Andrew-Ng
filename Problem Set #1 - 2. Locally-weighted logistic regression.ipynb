{
 "cells": [
  {
   "cell_type": "markdown",
   "metadata": {},
   "source": [
    "### CS229 Problem Set #1\n",
    "\n",
    "# CS 229, Public Course\n",
    "\n",
    "## Problem Set #1: Supervised Learning\n",
    "\n",
    "---"
   ]
  },
  {
   "cell_type": "markdown",
   "metadata": {},
   "source": [
    "## 2. Locally-weighted logistic regression\n",
    "\n",
    "In this problem you will implement a **locally-weighted version of logistic regression**, where\n",
    "we **weight different training examples differently** according to the ***query point***.\n",
    "\n",
    "The locally-weighted logistic regression problem is to **maximize**\n",
    "\n",
    "$$l(\\theta) = -\\frac \\lambda 2 \\theta^T \\theta + \\sum_{i=1}^m w^{(i)} \\left[ y^{(i)} log h_\\theta(x^{(i)}) + (1-y^{(i)}) log (1 - h_\\theta(x^{(i)})) \\right]$$"
   ]
  },
  {
   "cell_type": "markdown",
   "metadata": {
    "ExecuteTime": {
     "end_time": "2019-10-09T23:06:37.333721Z",
     "start_time": "2019-10-09T23:06:37.327777Z"
    }
   },
   "source": [
    "The term\n",
    "\n",
    "$$-\\frac \\lambda 2 \\theta^T \\theta$$\n",
    "\n",
    "here is what is known as a ***regularization parameter***, which will be discussed in a future lecture, but which we include here because it is needed for Newton’s method to\n",
    "perform well on this task.\n",
    "\n",
    "For the entirety of this problem you can use the value:\n",
    "\n",
    "* $\\lambda = 0.0001$."
   ]
  },
  {
   "cell_type": "markdown",
   "metadata": {},
   "source": [
    "Using this definition, the **Gradient** of $l(\\theta)$ is given by\n",
    "\n",
    "$$\\nabla_\\theta l(\\theta) = X^T z - \\lambda \\theta$$"
   ]
  },
  {
   "cell_type": "markdown",
   "metadata": {},
   "source": [
    "where $z \\in \\mathbb R^m$ is defined by\n",
    "\n",
    "$$z_i = w^{(i)} \\left(y^{(i)} - h_\\theta(x^{(i)})\\right)$$"
   ]
  },
  {
   "cell_type": "markdown",
   "metadata": {},
   "source": [
    "and the **Hessian** is given by\n",
    "\n",
    "$$H = X^T D X - \\lambda I$$"
   ]
  },
  {
   "cell_type": "markdown",
   "metadata": {},
   "source": [
    "where $D \\in \\mathbb R^{mxm}$ is a diagonal matrix with\n",
    "\n",
    "$$D_{ii} = -w^{(i)} h_\\theta(x^{(i)}) \\left(1 - h_\\theta(x^{(i)})\\right)$$"
   ]
  },
  {
   "cell_type": "markdown",
   "metadata": {},
   "source": [
    "For the sake of this problem you can just use the above formulas, but you should try to derive these results for yourself as well.\n",
    "\n",
    "---\n",
    "\n",
    "Let's solve the equations to make it more clear:"
   ]
  },
  {
   "cell_type": "markdown",
   "metadata": {},
   "source": [
    "$$l(\\theta) = -\\frac \\lambda 2 \\theta^T \\theta + \\sum_{i=1}^m w^{(i)} \\left[ y^{(i)} log h_\\theta(x^{(i)}) + (1-y^{(i)}) log (1 - h_\\theta(x^{(i)})) \\right]$$"
   ]
  },
  {
   "cell_type": "markdown",
   "metadata": {},
   "source": [
    "$$= -\\frac \\lambda 2 \\theta^T \\theta + \\sum_{i=1}^m w^{(i)} y^{(i)} log h_\\theta(x^{(i)}) + w^{(i)} (1-y^{(i)}) log (1 - h_\\theta(x^{(i)})) $$"
   ]
  },
  {
   "cell_type": "markdown",
   "metadata": {},
   "source": [
    "$$\\nabla_\\theta l(\\theta) = - 2 \\frac \\lambda 2 \\theta + \\sum w y \\frac 1 {h_\\theta (x)} h'_\\theta (x) + w (1-y) \\frac 1 {1 - h_\\theta (x)} (- h'_\\theta (x)) $$\n",
    "\n"
   ]
  },
  {
   "cell_type": "markdown",
   "metadata": {},
   "source": [
    "$$= - 2 \\frac \\lambda 2 \\theta + \\sum w y \\frac 1 {h_\\theta (x)} h'_\\theta (x) + w \\frac 1 {1 - h_\\theta (x)} (- h'_\\theta (x)) - w y \\frac 1 {1 - h_\\theta (x)} (- h'_\\theta (x))$$"
   ]
  },
  {
   "cell_type": "code",
   "execution_count": null,
   "metadata": {},
   "outputs": [],
   "source": []
  },
  {
   "cell_type": "markdown",
   "metadata": {},
   "source": [
    "---\n",
    "\n",
    "Given a query point $x$, we choose compute the weights\n",
    "\n",
    "$$w^{(i)} = exp \\left( - \\frac {||x-x^{(i)}||^2}{2\\tau^2}\\right)$$"
   ]
  },
  {
   "cell_type": "markdown",
   "metadata": {},
   "source": [
    "Much like the locally weighted linear regression that was discussed in class, this weighting\n",
    "scheme gives more when the “nearby” points when predicting the class of a new example."
   ]
  },
  {
   "cell_type": "markdown",
   "metadata": {},
   "source": [
    ">**a)** Implement the [***Newton-Raphson algorithm***](https://en.wikipedia.org/wiki/Newton%27s_method) for optimizing $l(\\theta)$ for a **new query point** $x$, and use this to **predict the class** of $x$.\n",
    ">\n",
    ">The *q2/* directory contains data and code for this problem.\n",
    ">\n",
    ">You should implement the `y = lwlr(X train, y train, x, tau)` function in the *lwlr.m* file.\n",
    ">\n",
    ">This function takes as input the training set (the X_train and y_train matrices, in the form described in the >class notes), a new query point $x$ and the weight bandwitdh tau $\\tau$.\n",
    ">\n",
    ">Given this input the function should:\n",
    ">\n",
    ">1. **compute weights $w^{(i)}$ *for each training example***, using the formula above\n",
    ">\n",
    ">2. **maximize** $l(\\theta)$ using Newton’s method, and finally\n",
    ">\n",
    ">3. output $y = \\mathbb 1\\{h_\\theta(x) > 0.5\\}$ as the **prediction**.\n",
    ">\n",
    ">We provide two additional functions that might help.\n",
    ">\n",
    ">* The `[X train, y train] = load data;` function will load the matrices from files in the *data/* folder.\n",
    ">\n",
    ">* The function `plot_lwlr(X train, y train, tau, resolution)` will plot the resulting classifier (assuming you have properly implemented *lwlr.m*).\n",
    ">  \n",
    ">  This function **evaluates** the *locally weighted logistic regression classifier* over a **large grid of points** and plots the resulting prediction as blue (predicting y = 0) or orange (predicting y = 1).\n",
    ">  \n",
    ">  Depending on how fast your lwlr function is, **creating the plot might take some time**, so we recommend debugging your code with resolution = 50; and later increase it to at least 200 to get a better idea of the decision boundary.\n",
    ">\n",
    ">**b)** Evaluate the system with a **variety of different bandwidth parameters Tau** $\\tau$.\n",
    ">\n",
    ">In particular, try $\\tau = 0.01, 0.05, 0.1, 0.5, 1.0, 5.0$.\n",
    ">\n",
    "> * How does the classification boundary change when varying this parameter? \n",
    ">\n",
    "> * Can you predict what the decision boundary of ordinary (unweighted) logistic regression would look like?"
   ]
  },
  {
   "cell_type": "markdown",
   "metadata": {},
   "source": [
    "## Plotting the data"
   ]
  },
  {
   "cell_type": "code",
   "execution_count": 1,
   "metadata": {
    "ExecuteTime": {
     "end_time": "2019-10-09T23:06:37.339638Z",
     "start_time": "2019-10-09T21:40:08.165Z"
    }
   },
   "outputs": [
    {
     "name": "stdout",
     "output_type": "stream",
     "text": [
      "x data loaded with shape (69, 2)\n",
      "y data loaded with shape (69,)\n"
     ]
    }
   ],
   "source": [
    "import numpy as np\n",
    "\n",
    "def load_data():\n",
    "    x = np.loadtxt('./ps1-q2/data/x.dat')\n",
    "    y = np.loadtxt('./ps1-q2/data/y.dat')\n",
    "    print('x data loaded with shape {}'.format(x.shape))\n",
    "    print('y data loaded with shape {}'.format(y.shape))\n",
    "    return x,y\n",
    "x,y = load_data()"
   ]
  },
  {
   "cell_type": "code",
   "execution_count": 2,
   "metadata": {
    "ExecuteTime": {
     "end_time": "2019-10-09T23:06:37.341346Z",
     "start_time": "2019-10-09T21:40:08.480Z"
    }
   },
   "outputs": [
    {
     "data": {
      "text/plain": [
       "<Figure size 640x480 with 1 Axes>"
      ]
     },
     "metadata": {},
     "output_type": "display_data"
    }
   ],
   "source": [
    "import matplotlib.pyplot as plt\n",
    "plt.scatter(x[y==0][:,0], x[y==0][:,1], marker='o')\n",
    "plt.scatter(x[y==1][:,0], x[y==1][:,1], marker='x')\n",
    "plt.show()"
   ]
  },
  {
   "cell_type": "code",
   "execution_count": 3,
   "metadata": {
    "ExecuteTime": {
     "end_time": "2019-10-09T20:03:56.805897Z",
     "start_time": "2019-10-09T20:03:56.795434Z"
    }
   },
   "outputs": [],
   "source": [
    "def weight(x, xi, tau):\n",
    "    # Squared Exponential kernel\n",
    "    return np.exp(-1./(2*tau**2) * np.linalg.norm((x-xi), ord=2))\n",
    "\n",
    "def sigmoid(z):\n",
    "    return 1./(1+np.exp(-z))\n",
    "\n",
    "def h(theta, xi):\n",
    "    # Hypothesis h_theta(xi)\n",
    "    linear = np.dot(np.transpose(theta), xi)\n",
    "    return sigmoid(linear)\n",
    "\n",
    "def locally_weighted_logistic_regression(X_train, y_train, x, tau=0.01, lambd=1e-4):\n",
    "    # Adding bias column\n",
    "    X_train = np.c_[np.ones(69), X_train]\n",
    "    x = np.hstack(([1], x))\n",
    "    # Number of features\n",
    "    n = X_train.shape[1]\n",
    "    # Number of training examples\n",
    "    m = len(y)\n",
    "    # Weights theta in R^n\n",
    "    theta = np.zeros(n)\n",
    "    # lambda: Regularization parameter \n",
    "    # Regularization matrix for the Hessian\n",
    "    regul = np.eye(n) * lambd\n",
    "    # Diagonal matrix\n",
    "    D = np.eye(m)\n",
    "    # Compute usefull values to rehuse on D and z\n",
    "    h_theta = [h(theta, X_train[i]) for i in range(m)]\n",
    "    w_tau   = [weight(x, X_train[i], tau) for i in range(m)]\n",
    "    for i in range(m):\n",
    "        D[i,i] = -w_tau[i]*h_theta[i]*(1 - h_theta[i])\n",
    "    # Hessian of J(0)\n",
    "    H = np.dot(np.transpose(X_train), np.dot(D, X_train)) - regul\n",
    "    # inverse of H\n",
    "    #iH = np.linalg.inv(H)\n",
    "    iH = np.linalg.pinv(H)\n",
    "    z = np.array([w_tau[i]*(y_train[i]-h_theta[i]) for i in range(m)])\n",
    "    # Gradient of J(0)\n",
    "    gradJ = np.matmul(np.transpose(X_train), z) - lambd * theta\n",
    "    # Newton's update\n",
    "    theta = theta - np.dot(iH, gradJ)\n",
    "    return h(theta, x)"
   ]
  },
  {
   "cell_type": "code",
   "execution_count": 4,
   "metadata": {
    "ExecuteTime": {
     "end_time": "2019-10-09T20:03:56.812048Z",
     "start_time": "2019-10-09T20:03:56.808174Z"
    }
   },
   "outputs": [],
   "source": [
    "def lwlr(X_train, y_train, x, tau=0.2):\n",
    "    return locally_weighted_logistic_regression(X_train, y_train, x, tau)"
   ]
  },
  {
   "cell_type": "code",
   "execution_count": 5,
   "metadata": {
    "ExecuteTime": {
     "end_time": "2019-10-09T20:03:56.819058Z",
     "start_time": "2019-10-09T20:03:56.813951Z"
    }
   },
   "outputs": [],
   "source": [
    "# For time debugging\n",
    "#%lprun?\n",
    "#%load_ext line_profiler\n",
    "#%lprun -f locally_weighted_logistic_regression locally_weighted_logistic_regression(x, y, point, 0.1)"
   ]
  },
  {
   "cell_type": "markdown",
   "metadata": {},
   "source": [
    "### Evaluate new point"
   ]
  },
  {
   "cell_type": "code",
   "execution_count": 6,
   "metadata": {
    "ExecuteTime": {
     "end_time": "2019-10-09T20:03:56.823802Z",
     "start_time": "2019-10-09T20:03:56.820830Z"
    }
   },
   "outputs": [],
   "source": [
    "# New point to evaluate\n",
    "point = np.array([-0.6, 0.7])"
   ]
  },
  {
   "cell_type": "markdown",
   "metadata": {},
   "source": [
    "#### Lets plot it"
   ]
  },
  {
   "cell_type": "code",
   "execution_count": 7,
   "metadata": {
    "ExecuteTime": {
     "end_time": "2019-10-09T20:03:56.980461Z",
     "start_time": "2019-10-09T20:03:56.825734Z"
    }
   },
   "outputs": [
    {
     "data": {
      "image/png": "[encoded data removed]",
      "text/plain": [
       "<Figure size 432x288 with 1 Axes>"
      ]
     },
     "metadata": {
      "needs_background": "light"
     },
     "output_type": "display_data"
    }
   ],
   "source": [
    "import matplotlib.pyplot as plt\n",
    "plt.scatter(x[y==0][:,0], x[y==0][:,1], marker='o')\n",
    "plt.scatter(x[y==1][:,0], x[y==1][:,1], marker='x')\n",
    "plt.scatter(point[0], point[1], marker='*', s=200, c='r')\n",
    "plt.show()"
   ]
  },
  {
   "cell_type": "markdown",
   "metadata": {},
   "source": [
    "#### LWLR Prediction:"
   ]
  },
  {
   "cell_type": "code",
   "execution_count": 8,
   "metadata": {
    "ExecuteTime": {
     "end_time": "2019-10-09T20:03:56.987231Z",
     "start_time": "2019-10-09T20:03:56.982010Z"
    }
   },
   "outputs": [
    {
     "data": {
      "text/plain": [
       "0.12068918648271217"
      ]
     },
     "execution_count": 8,
     "metadata": {},
     "output_type": "execute_result"
    }
   ],
   "source": [
    "locally_weighted_logistic_regression(x, y, point, tau=0.2)"
   ]
  },
  {
   "cell_type": "markdown",
   "metadata": {},
   "source": [
    "Very close to class 0"
   ]
  },
  {
   "cell_type": "markdown",
   "metadata": {},
   "source": [
    "#### Predictions and confidence"
   ]
  },
  {
   "cell_type": "code",
   "execution_count": 9,
   "metadata": {
    "ExecuteTime": {
     "end_time": "2019-10-09T20:03:56.993139Z",
     "start_time": "2019-10-09T20:03:56.988686Z"
    }
   },
   "outputs": [],
   "source": [
    "# New points to evaluate\n",
    "point1 = np.array([-0.6, 0.7])\n",
    "point2 = np.array([0.4, -0.7])\n",
    "point3 = np.array([0.4, 0.0])"
   ]
  },
  {
   "cell_type": "code",
   "execution_count": 10,
   "metadata": {
    "ExecuteTime": {
     "end_time": "2019-10-09T20:03:57.176383Z",
     "start_time": "2019-10-09T20:03:56.995117Z"
    }
   },
   "outputs": [
    {
     "data": {
      "image/png": "[encoded data removed]",
      "text/plain": [
       "<Figure size 432x288 with 1 Axes>"
      ]
     },
     "metadata": {
      "needs_background": "light"
     },
     "output_type": "display_data"
    }
   ],
   "source": [
    "import matplotlib.pyplot as plt\n",
    "plt.scatter(x[y==0][:,0], x[y==0][:,1], marker='o')\n",
    "plt.scatter(x[y==1][:,0], x[y==1][:,1], marker='x')\n",
    "\n",
    "plt.scatter(point1[0], point1[1], marker='*', s=200, c='r')\n",
    "plt.text(point1[0]+0.04, point1[1]-0.05, '1', size=20)\n",
    "\n",
    "plt.scatter(point2[0], point2[1], marker='*', s=200, c='r')\n",
    "plt.text(point2[0]+0.04, point2[1]-0.05, '2', size=20)\n",
    "\n",
    "plt.scatter(point3[0], point3[1], marker='*', s=200, c='r')\n",
    "plt.text(point3[0]+0.04, point3[1]-0.05, '3', size=20)\n",
    "\n",
    "plt.show()"
   ]
  },
  {
   "cell_type": "code",
   "execution_count": 11,
   "metadata": {
    "ExecuteTime": {
     "end_time": "2019-10-09T20:04:01.574908Z",
     "start_time": "2019-10-09T20:04:01.563502Z"
    }
   },
   "outputs": [
    {
     "name": "stdout",
     "output_type": "stream",
     "text": [
      "Prediction for point1: 0.121 >> class: 0\n",
      "Prediction for point2: 0.878 >> class: 1\n",
      "Prediction for point3: 0.548 >> class: 1\n"
     ]
    }
   ],
   "source": [
    "print('Prediction for point1: %.3f >> class: %d' % (lwlr(x, y, point1), round(lwlr(x, y, point1))))\n",
    "print('Prediction for point2: %.3f >> class: %d' % (lwlr(x, y, point2), round(lwlr(x, y, point2))))\n",
    "print('Prediction for point3: %.3f >> class: %d' % (lwlr(x, y, point3), round(lwlr(x, y, point3))))"
   ]
  },
  {
   "cell_type": "code",
   "execution_count": 12,
   "metadata": {
    "ExecuteTime": {
     "end_time": "2019-10-09T20:04:05.111448Z",
     "start_time": "2019-10-09T20:04:02.624296Z"
    }
   },
   "outputs": [
    {
     "data": {
      "image/png": "[encoded data removed]",
      "text/plain": [
       "<Figure size 576x576 with 2 Axes>"
      ]
     },
     "metadata": {
      "needs_background": "light"
     },
     "output_type": "display_data"
    }
   ],
   "source": [
    "figure = plt.gcf() # get current figure\n",
    "figure.set_size_inches(8, 8)\n",
    "# when saving, specify the DPI\n",
    "\n",
    "def lwlr_grid(X, y, i, j, res, tau, lambd):\n",
    "    return locally_weighted_logistic_regression(X, y, np.asarray([2*i/(res-1)-1, 2*j/(res-1)-1]), tau, lambd)\n",
    "\n",
    "def plot_lwlr(X, y, tau, lambd=1e-4, res=50, save=False, idx=0):\n",
    "    # Evaluates a grid of (res x res) points (x0,x1)\n",
    "    x = np.zeros(2)\n",
    "    pred = np.ndarray((res,res))\n",
    "    x0s = 2*np.arange(0, res)/(res-1) - 1\n",
    "    x1s = 2*np.arange(0, res)/(res-1) - 1\n",
    "    for i in range(res):\n",
    "        for j in range(res):\n",
    "            #x[0] = 2*i/(res-1) - 1\n",
    "            #x[1] = 2*j/(res-1) - 1\n",
    "            pred[j,i] = locally_weighted_logistic_regression(X, y, [x0s[i], x1s[j]], tau, lambd)\n",
    "    plt.imshow(pred, extent=[-1, 1, -1, 1], aspect='equal', vmin=0.0, vmax=1.0, origin='lower')\n",
    "    plt.scatter(X[y==0][:,0], X[y==0][:,1], marker='o')\n",
    "    plt.scatter(X[y==1][:,0], X[y==1][:,1], marker='x')\n",
    "    plt.title(r'$w=exp(-1/(2\\tau^2) * || x-x_i||^2)$, $\\tau$'+'= {0:.3f}'.format(tau))\n",
    "    plt.colorbar()\n",
    "    if save:\n",
    "        plt.savefig('./animation/{}.png'.format(idx), dpi=100)\n",
    "        print('Saved ./animation/{}.png'.format(idx))\n",
    "        plt.close()\n",
    "    else:\n",
    "        plt.show()\n",
    "    \n",
    "plot_lwlr(x, y, tau=0.2, lambd=1e-4, res=50)"
   ]
  },
  {
   "cell_type": "markdown",
   "metadata": {},
   "source": [
    "**(b)**\n",
    "\n",
    "## Incidence of Tau $\\tau$\n",
    "\n",
    "The next for loop tries several Tau values from 0.01 to 1.2, and saves the corresponding colormap with the predicted grid values as before.\n",
    "\n",
    "Online animations should be loaded just after that cell."
   ]
  },
  {
   "cell_type": "code",
   "execution_count": 279,
   "metadata": {
    "ExecuteTime": {
     "end_time": "2019-10-09T23:06:37.322580Z",
     "start_time": "2019-10-09T20:04:33.676103Z"
    },
    "scrolled": true
   },
   "outputs": [
    {
     "name": "stdout",
     "output_type": "stream",
     "text": [
      "Saved ./animation/0.png\n",
      "Saved ./animation/1.png\n",
      "Saved ./animation/2.png\n",
      "Saved ./animation/3.png\n",
      "Saved ./animation/4.png\n",
      "Saved ./animation/5.png\n",
      "Saved ./animation/6.png\n",
      "Saved ./animation/7.png\n",
      "Saved ./animation/8.png\n",
      "Saved ./animation/9.png\n",
      "Saved ./animation/10.png\n",
      "Saved ./animation/11.png\n",
      "Saved ./animation/12.png\n",
      "Saved ./animation/13.png\n",
      "Saved ./animation/14.png\n",
      "Saved ./animation/15.png\n",
      "Saved ./animation/16.png\n",
      "Saved ./animation/17.png\n",
      "Saved ./animation/18.png\n",
      "Saved ./animation/19.png\n",
      "Saved ./animation/20.png\n",
      "Saved ./animation/21.png\n",
      "Saved ./animation/22.png\n",
      "Saved ./animation/23.png\n",
      "Saved ./animation/24.png\n",
      "Saved ./animation/25.png\n",
      "Saved ./animation/26.png\n",
      "Saved ./animation/27.png\n",
      "Saved ./animation/28.png\n",
      "Saved ./animation/29.png\n",
      "Saved ./animation/30.png\n",
      "Saved ./animation/31.png\n",
      "Saved ./animation/32.png\n",
      "Saved ./animation/33.png\n",
      "Saved ./animation/34.png\n",
      "Saved ./animation/35.png\n",
      "Saved ./animation/36.png\n",
      "Saved ./animation/37.png\n",
      "Saved ./animation/38.png\n",
      "Saved ./animation/39.png\n",
      "Saved ./animation/40.png\n",
      "Saved ./animation/41.png\n",
      "Saved ./animation/42.png\n",
      "Saved ./animation/43.png\n",
      "Saved ./animation/44.png\n",
      "Saved ./animation/45.png\n",
      "Saved ./animation/46.png\n",
      "Saved ./animation/47.png\n",
      "Saved ./animation/48.png\n",
      "Saved ./animation/49.png\n",
      "Saved ./animation/50.png\n",
      "Saved ./animation/51.png\n",
      "Saved ./animation/52.png\n",
      "Saved ./animation/53.png\n",
      "Saved ./animation/54.png\n",
      "Saved ./animation/55.png\n",
      "Saved ./animation/56.png\n",
      "Saved ./animation/57.png\n",
      "Saved ./animation/58.png\n",
      "Saved ./animation/59.png\n",
      "Saved ./animation/60.png\n",
      "Saved ./animation/61.png\n",
      "Saved ./animation/62.png\n",
      "Saved ./animation/63.png\n",
      "Saved ./animation/64.png\n",
      "Saved ./animation/65.png\n",
      "Saved ./animation/66.png\n",
      "Saved ./animation/67.png\n",
      "Saved ./animation/68.png\n",
      "Saved ./animation/69.png\n",
      "Saved ./animation/70.png\n",
      "Saved ./animation/71.png\n",
      "Saved ./animation/72.png\n",
      "Saved ./animation/73.png\n",
      "Saved ./animation/74.png\n",
      "Saved ./animation/75.png\n",
      "Saved ./animation/76.png\n",
      "Saved ./animation/77.png\n",
      "Saved ./animation/78.png\n",
      "Saved ./animation/79.png\n",
      "Saved ./animation/80.png\n",
      "Saved ./animation/81.png\n",
      "Saved ./animation/82.png\n",
      "Saved ./animation/83.png\n",
      "Saved ./animation/84.png\n",
      "Saved ./animation/85.png\n",
      "Saved ./animation/86.png\n",
      "Saved ./animation/87.png\n",
      "Saved ./animation/88.png\n",
      "Saved ./animation/89.png\n",
      "Saved ./animation/90.png\n",
      "Saved ./animation/91.png\n",
      "Saved ./animation/92.png\n",
      "Saved ./animation/93.png\n",
      "Saved ./animation/94.png\n",
      "Saved ./animation/95.png\n",
      "Saved ./animation/96.png\n",
      "Saved ./animation/97.png\n",
      "Saved ./animation/98.png\n",
      "Saved ./animation/99.png\n",
      "Saved ./animation/100.png\n",
      "Saved ./animation/101.png\n",
      "Saved ./animation/102.png\n",
      "Saved ./animation/103.png\n",
      "Saved ./animation/104.png\n",
      "Saved ./animation/105.png\n",
      "Saved ./animation/106.png\n",
      "Saved ./animation/107.png\n",
      "Saved ./animation/108.png\n",
      "Saved ./animation/109.png\n",
      "Saved ./animation/110.png\n",
      "Saved ./animation/111.png\n",
      "Saved ./animation/112.png\n",
      "Saved ./animation/113.png\n",
      "Saved ./animation/114.png\n",
      "Saved ./animation/115.png\n",
      "Saved ./animation/116.png\n",
      "Saved ./animation/117.png\n",
      "Saved ./animation/118.png\n",
      "Saved ./animation/119.png\n",
      "Saved ./animation/120.png\n",
      "Saved ./animation/121.png\n",
      "Saved ./animation/122.png\n",
      "Saved ./animation/123.png\n",
      "Saved ./animation/124.png\n",
      "Saved ./animation/125.png\n",
      "Saved ./animation/126.png\n",
      "Saved ./animation/127.png\n",
      "Saved ./animation/128.png\n",
      "Saved ./animation/129.png\n",
      "Saved ./animation/130.png\n",
      "Saved ./animation/131.png\n",
      "Saved ./animation/132.png\n",
      "Saved ./animation/133.png\n",
      "Saved ./animation/134.png\n",
      "Saved ./animation/135.png\n",
      "Saved ./animation/136.png\n",
      "Saved ./animation/137.png\n",
      "Saved ./animation/138.png\n",
      "Saved ./animation/139.png\n",
      "Saved ./animation/140.png\n",
      "Saved ./animation/141.png\n",
      "Saved ./animation/142.png\n",
      "Saved ./animation/143.png\n",
      "Saved ./animation/144.png\n",
      "Saved ./animation/145.png\n",
      "Saved ./animation/146.png\n",
      "Saved ./animation/147.png\n",
      "Saved ./animation/148.png\n",
      "Saved ./animation/149.png\n",
      "Saved ./animation/150.png\n",
      "Saved ./animation/151.png\n",
      "Saved ./animation/152.png\n",
      "Saved ./animation/153.png\n",
      "Saved ./animation/154.png\n",
      "Saved ./animation/155.png\n",
      "Saved ./animation/156.png\n",
      "Saved ./animation/157.png\n",
      "Saved ./animation/158.png\n",
      "Saved ./animation/159.png\n",
      "Saved ./animation/160.png\n",
      "Saved ./animation/161.png\n",
      "Saved ./animation/162.png\n",
      "Saved ./animation/163.png\n",
      "Saved ./animation/164.png\n",
      "Saved ./animation/165.png\n",
      "Saved ./animation/166.png\n",
      "Saved ./animation/167.png\n",
      "Saved ./animation/168.png\n",
      "Saved ./animation/169.png\n",
      "Saved ./animation/170.png\n",
      "Saved ./animation/171.png\n",
      "Saved ./animation/172.png\n",
      "Saved ./animation/173.png\n",
      "Saved ./animation/174.png\n",
      "Saved ./animation/175.png\n",
      "Saved ./animation/176.png\n",
      "Saved ./animation/177.png\n",
      "Saved ./animation/178.png\n",
      "Saved ./animation/179.png\n",
      "Saved ./animation/180.png\n",
      "Saved ./animation/181.png\n",
      "Saved ./animation/182.png\n",
      "Saved ./animation/183.png\n",
      "Saved ./animation/184.png\n",
      "Saved ./animation/185.png\n",
      "Saved ./animation/186.png\n",
      "Saved ./animation/187.png\n",
      "Saved ./animation/188.png\n",
      "Saved ./animation/189.png\n",
      "Saved ./animation/190.png\n",
      "Saved ./animation/191.png\n",
      "Saved ./animation/192.png\n",
      "Saved ./animation/193.png\n",
      "Saved ./animation/194.png\n",
      "Saved ./animation/195.png\n",
      "Saved ./animation/196.png\n",
      "Saved ./animation/197.png\n",
      "Saved ./animation/198.png\n",
      "Saved ./animation/199.png\n",
      "Saved ./animation/200.png\n",
      "Saved ./animation/201.png\n",
      "Saved ./animation/202.png\n",
      "Saved ./animation/203.png\n",
      "Saved ./animation/204.png\n",
      "Saved ./animation/205.png\n",
      "Saved ./animation/206.png\n",
      "Saved ./animation/207.png\n",
      "Saved ./animation/208.png\n",
      "Saved ./animation/209.png\n",
      "Saved ./animation/210.png\n",
      "Saved ./animation/211.png\n",
      "Saved ./animation/212.png\n",
      "Saved ./animation/213.png\n",
      "Saved ./animation/214.png\n",
      "Saved ./animation/215.png\n",
      "Saved ./animation/216.png\n",
      "Saved ./animation/217.png\n",
      "Saved ./animation/218.png\n",
      "Saved ./animation/219.png\n",
      "Saved ./animation/220.png\n",
      "Saved ./animation/221.png\n",
      "Saved ./animation/222.png\n",
      "Saved ./animation/223.png\n",
      "Saved ./animation/224.png\n",
      "Saved ./animation/225.png\n",
      "Saved ./animation/226.png\n",
      "Saved ./animation/227.png\n",
      "Saved ./animation/228.png\n",
      "Saved ./animation/229.png\n",
      "Saved ./animation/230.png\n",
      "Saved ./animation/231.png\n",
      "Saved ./animation/232.png\n",
      "Saved ./animation/233.png\n",
      "Saved ./animation/234.png\n",
      "Saved ./animation/235.png\n",
      "Saved ./animation/236.png\n",
      "Saved ./animation/237.png\n",
      "Saved ./animation/238.png\n",
      "Saved ./animation/239.png\n",
      "Saved ./animation/240.png\n",
      "Saved ./animation/241.png\n",
      "Saved ./animation/242.png\n",
      "Saved ./animation/243.png\n",
      "Saved ./animation/244.png\n",
      "Saved ./animation/245.png\n",
      "Saved ./animation/246.png\n",
      "Saved ./animation/247.png\n",
      "Saved ./animation/248.png\n",
      "Saved ./animation/249.png\n",
      "Saved ./animation/250.png\n",
      "Saved ./animation/251.png\n",
      "Saved ./animation/252.png\n",
      "Saved ./animation/253.png\n",
      "Saved ./animation/254.png\n",
      "Saved ./animation/255.png\n",
      "Saved ./animation/256.png\n",
      "Saved ./animation/257.png\n",
      "Saved ./animation/258.png\n",
      "Saved ./animation/259.png\n",
      "Saved ./animation/260.png\n",
      "Saved ./animation/261.png\n",
      "Saved ./animation/262.png\n",
      "Saved ./animation/263.png\n",
      "Saved ./animation/264.png\n",
      "Saved ./animation/265.png\n",
      "Saved ./animation/266.png\n",
      "Saved ./animation/267.png\n",
      "Saved ./animation/268.png\n",
      "Saved ./animation/269.png\n",
      "Saved ./animation/270.png\n",
      "Saved ./animation/271.png\n",
      "Saved ./animation/272.png\n",
      "Saved ./animation/273.png\n",
      "Saved ./animation/274.png\n",
      "Saved ./animation/275.png\n",
      "Saved ./animation/276.png\n",
      "Saved ./animation/277.png\n",
      "Saved ./animation/278.png\n",
      "Saved ./animation/279.png\n",
      "Saved ./animation/280.png\n",
      "Saved ./animation/281.png\n",
      "Saved ./animation/282.png\n",
      "Saved ./animation/283.png\n",
      "Saved ./animation/284.png\n",
      "Saved ./animation/285.png\n",
      "Saved ./animation/286.png\n",
      "Saved ./animation/287.png\n",
      "Saved ./animation/288.png\n",
      "Saved ./animation/289.png\n"
     ]
    }
   ],
   "source": [
    "for idx, tau in enumerate(np.arange(0.01, 0.3, 0.001)):\n",
    "    plot_lwlr(x, y, tau, lambd=1e-4, res=200, save=True, idx=idx)"
   ]
  },
  {
   "cell_type": "markdown",
   "metadata": {
    "ExecuteTime": {
     "end_time": "2019-10-09T02:51:44.036597Z",
     "start_time": "2019-10-09T02:51:44.034415Z"
    }
   },
   "source": [
    "![](https://media.giphy.com/media/Qx5QKQCBj5WRsltbAP/giphy.gif)"
   ]
  },
  {
   "cell_type": "markdown",
   "metadata": {
    "ExecuteTime": {
     "end_time": "2019-10-09T02:05:35.248713Z",
     "start_time": "2019-10-09T02:05:35.244285Z"
    }
   },
   "source": [
    "### Questions:\n",
    "> How does the classification boundary change when varying this parameter?\n",
    "\n",
    "It makes the borders more or less difuse, changing the weights for each distances.\n",
    "\n",
    "* Bigger Tau > Similar weights for each other point\n",
    "* Smaller Tau > More importance to closed by points.\n",
    "\n",
    "> Can you predict what the decision boundary of ordinary (unweighted) logistic regression would look like?\n",
    "\n",
    "It will look pretty similar to the results of very large tau, which makes all weights $\\approx 1$\n",
    "\n",
    "$$w^{(i)} = exp \\left( - \\frac {||x-x^{(i)}||^2}{2\\tau^2}\\right)$$\n",
    "\n",
    "if $\\tau \\rightarrow \\infty$\n",
    "\n",
    "$$w^{(i)} \\approx exp \\left( 0 \\right)$$\n",
    "\n",
    "$$w^{(i)} \\approx 1$$\n",
    "\n",
    "So ***all points will have the same weight, as in unweighted logistic regression***."
   ]
  },
  {
   "cell_type": "markdown",
   "metadata": {},
   "source": [
    "## Multivariate least squares"
   ]
  },
  {
   "cell_type": "markdown",
   "metadata": {},
   "source": []
  }
 ],
 "metadata": {
  "kernelspec": {
   "display_name": "Python 3",
   "language": "python",
   "name": "python3"
  },
  "language_info": {
   "codemirror_mode": {
    "name": "ipython",
    "version": 3
   },
   "file_extension": ".py",
   "mimetype": "text/x-python",
   "name": "python",
   "nbconvert_exporter": "python",
   "pygments_lexer": "ipython3",
   "version": "3.7.3"
  },
  "toc": {
   "base_numbering": 1,
   "nav_menu": {},
   "number_sections": true,
   "sideBar": true,
   "skip_h1_title": false,
   "title_cell": "Table of Contents",
   "title_sidebar": "Contents",
   "toc_cell": false,
   "toc_position": {},
   "toc_section_display": true,
   "toc_window_display": false
  }
 },
 "nbformat": 4,
 "nbformat_minor": 2
}
