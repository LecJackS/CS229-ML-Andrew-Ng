{
  "nbformat": 4,
  "nbformat_minor": 0,
  "metadata": {
    "kernelspec": {
      "display_name": "Python 3",
      "language": "python",
      "name": "python3"
    },
    "language_info": {
      "codemirror_mode": {
        "name": "ipython",
        "version": 3
      },
      "file_extension": ".py",
      "mimetype": "text/x-python",
      "name": "python",
      "nbconvert_exporter": "python",
      "pygments_lexer": "ipython3",
      "version": "3.7.3"
    },
    "colab": {
      "name": "Problem Set #1 - 3. Multivariate least squares.ipynb",
      "provenance": [],
      "collapsed_sections": []
    }
  },
  "cells": [
    {
      "cell_type": "markdown",
      "metadata": {
        "id": "cXw4-qzxMsgR",
        "colab_type": "text"
      },
      "source": [
        "### CS229 Problem Set #1\n",
        "\n",
        "# CS 229, Public Course\n",
        "\n",
        "## Problem Set #1: Supervised Learning\n",
        "\n",
        "---"
      ]
    },
    {
      "cell_type": "markdown",
      "metadata": {
        "id": "5mmxGWOgMsgT",
        "colab_type": "text"
      },
      "source": [
        "# Multivariate least squares\n",
        "\n",
        "So far in class, we have only considered cases where our target variable y is a **scalar value**.\n",
        "\n",
        "Suppose that instead of trying to predict a single output, we have a **training set with multiple outputs** for each example:\n",
        "\n",
        "\n",
        "\n"
      ]
    },
    {
      "cell_type": "markdown",
      "metadata": {
        "id": "wkb8hHFnMxrR",
        "colab_type": "text"
      },
      "source": [
        ">$$\\{(x^{(i)}, \\  y^{(i)})\\ , \\ i=1,\\dots,m\\}$$\n",
        ">\n",
        ">$$x^{(i)} \\in \\mathbb R ^n$$\n",
        ">$$y^{(i)} \\in \\mathbb R ^p$$\n"
      ]
    },
    {
      "cell_type": "markdown",
      "metadata": {
        "id": "1MjTaydPNcde",
        "colab_type": "text"
      },
      "source": [
        "Thus for each training example, $y^{(i)}$ is ***vector-valued***, with $p$ **entries**.\n",
        "\n",
        "We wish to use a **linear model** to predict the outputs, as in least squares, by specifying the parameter matrix $\\Theta$ in\n"
      ]
    },
    {
      "cell_type": "markdown",
      "metadata": {
        "id": "TuGY1IMuNw12",
        "colab_type": "text"
      },
      "source": [
        "> $$y = \\Theta ^T x$$\n",
        ">\n",
        "> where $\\Theta \\in \\mathbb R ^ {n \\times p}$"
      ]
    },
    {
      "cell_type": "markdown",
      "metadata": {
        "id": "ABkmQrFrNcr_",
        "colab_type": "text"
      },
      "source": [
        "* **a)** The cost function for this case is\n",
        "  \n",
        "  >  $$J(\\Theta) = \\frac 1 2 \\sum_{i=1}^m \\sum_{j=1}^p \\left( (\\Theta^T x^{(i)})_j - y_j ^{(i)}\\right)^2$$\n"
      ]
    },
    {
      "cell_type": "markdown",
      "metadata": {
        "id": "hQxkFJv1Ncwv",
        "colab_type": "text"
      },
      "source": [
        "  Write $J(\\Theta)$ in **matrix-vector notation** (i.e., without using any summations).\n",
        "  \n",
        "  > ***Hint:*** Start with the $m \\times n$ ***design matrix***:"
      ]
    },
    {
      "cell_type": "markdown",
      "metadata": {
        "id": "eRseGCzBPwv8",
        "colab_type": "text"
      },
      "source": [
        "$$X = \\begin{bmatrix}\n",
        "- \\ \\ (x^{(1)})^T \\ \\ - \\\\\n",
        "- \\ \\ (x^{(2)})^T \\ \\ - \\\\\n",
        "\\vdots \\\\\n",
        "- \\ \\ (x^{(m)})^T \\ \\ - \\\\\n",
        "\\end{bmatrix}$$"
      ]
    },
    {
      "cell_type": "markdown",
      "metadata": {
        "id": "M_a0STmCNczf",
        "colab_type": "text"
      },
      "source": [
        ">  and the $m \\times p$ ***target matrix***:"
      ]
    },
    {
      "cell_type": "markdown",
      "metadata": {
        "id": "IyNV6l33RkKv",
        "colab_type": "text"
      },
      "source": [
        "$$Y = \\begin{bmatrix}\n",
        "- \\ \\ (y^{(1)})^T \\ \\ - \\\\\n",
        "- \\ \\ (y^{(2)})^T \\ \\ - \\\\\n",
        "\\vdots \\\\\n",
        "- \\ \\ (y^{(m)})^T \\ \\ - \\\\\n",
        "\\end{bmatrix}$$"
      ]
    },
    {
      "cell_type": "markdown",
      "metadata": {
        "id": "nOCfKvqmNcuk",
        "colab_type": "text"
      },
      "source": [
        "> and then work out how to express $J(\\Theta)$ in terms of these matrices."
      ]
    },
    {
      "cell_type": "markdown",
      "metadata": {
        "id": "ug0IGhICT5B-",
        "colab_type": "text"
      },
      "source": [
        "### Solution:\n",
        "| Cost function|\n",
        "|--|\n",
        "|$$\\huge J(\\Theta) = \\frac 1 2 (X \\Theta - y)^T(X \\Theta - y)$$|\n",
        "\n",
        "> where\n",
        ">\n",
        ">|Matrix|$$X$$|$$\\Theta$$|$$y$$|\n",
        ">|--|--|--|--|\n",
        ">|Dim|$$m \\times n$$|$$n \\times p$$|$$m \\times p$$|\n",
        ">\n",
        ">\n",
        ">| |$$(X \\Theta - y)^T$$|$$X \\Theta - y$$|\n",
        ">|--|--|--|\n",
        ">|Dim|$$p \\times m$$|$$m \\times p$$|\n",
        ">\n",
        ">\n",
        ">| |$$J(\\Theta)$$|\n",
        ">|--|--|\n",
        ">|Dim|$$p \\times p$$|"
      ]
    },
    {
      "cell_type": "markdown",
      "metadata": {
        "id": "7R5xZaOVR0Vm",
        "colab_type": "text"
      },
      "source": [
        "* **b)** Find the **closed form solution** for $\\Theta$ which minimizes $J(\\Theta)$.\n",
        "  \n",
        "  This is the **equivalent** to the ***normal equations*** for the **multivariate case**."
      ]
    },
    {
      "cell_type": "markdown",
      "metadata": {
        "id": "1i2WDOhkbvd-",
        "colab_type": "text"
      },
      "source": [
        "### Solution:\n",
        "\n",
        "From part 1.\n",
        "\n",
        "> |Gradient of loss|\n",
        "> |-|\n",
        "> |$$\\large \\nabla_\\theta J(\\theta) = X^T \\left( X \\theta - y \\right)$$|\n",
        "\n",
        "Expanding:\n",
        "\n",
        "$$\\nabla_\\theta J(\\Theta) = X^T X \\theta - X^T y$$\n",
        "\n",
        "Want to minimize loss\n",
        "\n",
        "$$\\nabla_\\Theta J(\\Theta) \\stackrel{\\text{set}}{=} 0$$\n",
        "\n",
        "\n",
        "$$X^T X \\Theta - X^T y = 0$$\n",
        "\n",
        "\n",
        "$$X^T X \\Theta = X^T y$$\n",
        "\n",
        "> |Closed form solution for $\\theta$|\n",
        "> |-|\n",
        "|$$\\huge \\Theta = (X^T X)^{-1} X^T y$$|\n"
      ]
    },
    {
      "cell_type": "markdown",
      "metadata": {
        "id": "jtluOLE8R0ag",
        "colab_type": "text"
      },
      "source": [
        "* **c)** Suppose **instead** of considering the multivariate vectors $y^{(i)}$ **all at once**, we **instead compute each variable** $y_j^{(i)}$ separately for each $j = 1, \\dots , p$.\n",
        "\n",
        "  In this case, we have $p$ individual linear models, of the form:\n",
        "\n",
        "  > $$y_j^{(i)} = \\theta_j^T x^{(i)}$$\n",
        "  >\n",
        "  > with $j = 1, \\dots, p$\n",
        "\n",
        "  So here, each $\\theta_j \\in \\mathbb R ^n$.\n",
        "  \n",
        "  How do the parameters from these $p$ **independent least squares** problems **compare** to the **multivariate** solution?"
      ]
    },
    {
      "cell_type": "markdown",
      "metadata": {
        "id": "ik5exXV7dohA",
        "colab_type": "text"
      },
      "source": [
        "### Solution:\n",
        "\n",
        "Each $\\theta_j$ corresponds to an **output dimension** $j$, where $j = 1,\\dots, p$\n",
        "\n",
        "$$\\Theta = \\begin{bmatrix}\n",
        "- \\theta_1 - \\\\\n",
        "- \\theta_2 - \\\\\n",
        " \\vdots \\\\\n",
        "- \\theta_p - \\\\\n",
        "\\end{bmatrix}$$\n",
        "\n",
        "Where each\n",
        "$$\\theta_j = (X^T X)^{-1} X^T y_j$$\n",
        "\n",
        "Concretely\n",
        "\n",
        "$$\\Theta = \\begin{bmatrix}\n",
        "(X^T X)^{-1} X^T y_1 \\\\\n",
        "(X^T X)^{-1} X^T y_2 \\\\\n",
        " \\vdots \\\\\n",
        "(X^T X)^{-1} X^T y_p \\\\\n",
        "\\end{bmatrix}$$"
      ]
    },
    {
      "cell_type": "markdown",
      "metadata": {
        "id": "6UzqK3l6gCsm",
        "colab_type": "text"
      },
      "source": [
        "---"
      ]
    },
    {
      "cell_type": "code",
      "metadata": {
        "id": "s7rpOf9PgFEn",
        "colab_type": "code",
        "colab": {}
      },
      "source": [
        ""
      ],
      "execution_count": 0,
      "outputs": []
    }
  ]
}