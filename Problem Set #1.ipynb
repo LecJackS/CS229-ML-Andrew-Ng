{
 "cells": [
  {
   "cell_type": "markdown",
   "metadata": {},
   "source": [
    "### CS229 Problem Set #1\n",
    "\n",
    "# CS 229, Public Course\n",
    "\n",
    "## Problem Set #1: Supervised Learning"
   ]
  },
  {
   "cell_type": "markdown",
   "metadata": {},
   "source": [
    "## 1. **Newton's method** for computing least squares\n",
    "\n",
    "In this problem, we will prove that if we use **Newton’s method to solve the least squares optimization problem**, then **we only need one iteration to converge** to $\\theta^*$.\n",
    "\n",
    "> (a) Find the ***Hessian*** of the **cost function** $$J(\\theta) = \\frac{1}{2} \\sum_{i=1}^m (\\theta^T x^{(i)} − y^{(i)})^2 $$\n",
    ">\n",
    "> (b) Show that the first iteration of Newton’s method gives us $$\\theta^* = ( X^T X )^{-1} X^T \\vec{y}$$\n",
    "> **the solution** to our least squares problem."
   ]
  },
  {
   "cell_type": "markdown",
   "metadata": {},
   "source": [
    "(a) Hessian of **cost function** $J(\\theta)$\n",
    "\n",
    "$$J(\\theta) = \\frac{1}{2} \\sum_{i=1}^m (\\theta^T x^{(i)} − y^{(i)})^2 =$$\n",
    "\n",
    "matrix form:\n",
    "\n",
    "$$= \\frac{1}{2} \\left( X\\theta - y \\right)^T \\left( X\\theta - y \\right)$$\n",
    "\n",
    "expand square:\n",
    "\n",
    "$$= \\frac{1}{2} \\left( \\theta^T X^T X \\theta - \\theta^T X^T y - y^T X \\theta + y^T y \\right) $$\n",
    "\n"
   ]
  },
  {
   "cell_type": "markdown",
   "metadata": {},
   "source": [
    "$\\DeclareMathOperator{\\tr}{tr\\,}$\n",
    "\n",
    "because $J(\\theta) \\in R \\implies \\text{trace}\\left( J(\\theta)\\right) = J(\\theta)$\n",
    "\n",
    "> $$J(\\theta) = \\frac{1}{2} \\tr \\left( \\theta^T X^T X \\theta - \\theta^T X^T y - y^T X \\theta + y^T y \\right) $$\n",
    "\n",
    "Matrix of first derivatives:\n",
    "\n",
    "> $$\\nabla J(\\theta) = \\nabla \\frac{1}{2} \\tr \\left( \\theta^T X^T X \\theta - \\theta^T X^T y - y^T X \\theta + y^T y \\right) $$\n",
    "\n",
    "> $$= \\frac{1}{2} \\left(\\nabla \\tr ( \\theta^T X^T X \\theta ) - \\nabla \\tr (\\theta^T X^T y) - \\nabla \\tr (y^T X \\theta) + \\nabla \\tr (y^T y) \\right) $$\n"
   ]
  },
  {
   "cell_type": "markdown",
   "metadata": {},
   "source": [
    "Solving in parts:\n",
    "\n",
    "> `i.` $\\nabla \\tr ( \\theta^T X^T X \\theta )$\n",
    ">\n",
    "> `ii.` $\\nabla \\tr (\\theta^T X^T y)$\n",
    ">\n",
    "> `iii.` $\\nabla \\tr (y^T X \\theta)$\n",
    ">\n",
    "> `iv.` $\\nabla \\tr (y^T y)$"
   ]
  },
  {
   "cell_type": "markdown",
   "metadata": {},
   "source": [
    "`i.` $\\nabla_\\theta \\tr ( \\theta^T X^T X \\theta )$\n",
    "\n",
    "**Prop:**\n",
    "\n",
    "> $\\tr{ABC} = \\tr CAB = \\tr BCA$\n",
    "\n",
    "$$\\tr( \\theta^T X^T X \\theta ) = \\tr ( \\theta \\theta^T X^T X )$$\n",
    "\n",
    "$$\\nabla_\\theta \\tr( \\theta^T X^T X \\theta ) = \\nabla_\\theta \\tr ( \\theta \\theta^T X^T X )$$\n",
    "\n",
    "**Prop:**\n",
    "\n",
    "> $\\nabla _A \\tr ABA^TC = CAB + C^TAB^T$\n",
    "\n",
    " $$= \\nabla_\\theta \\tr ( \\theta I \\theta^T X^T X )$$\n",
    "\n",
    "> where\n",
    ">\n",
    "> $A = \\theta$\n",
    "> \n",
    "> $B = I$\n",
    "> \n",
    "> $C = X^TX$\n",
    "\n",
    "$$= \\tr ( \\theta \\ \\  I \\ \\  \\theta^T \\ \\  X^T X )$$\n",
    "\n",
    "using prop:\n",
    "\n",
    " $$= X^TX \\theta I + (X^TX)^T \\theta I^T$$\n",
    "\n",
    " $$= X^TX \\theta + X^TX \\theta$$\n",
    "\n",
    "> $$\\nabla \\tr ( \\theta^T X^T X \\theta ) = 2 X^TX \\theta $$"
   ]
  },
  {
   "cell_type": "markdown",
   "metadata": {},
   "source": [
    "`iii.` $\\nabla_\\theta \\tr (y^T X \\theta) = $\n",
    "\n",
    "Using prop of permutation from before:\n",
    "\n",
    "$$= \\nabla_\\theta \\tr (\\theta y^T X )$$\n",
    "\n",
    "**Prop:**\n",
    "> $\\nabla_A \\tr A B = B^T$\n",
    "\n",
    "> where, if\n",
    ">\n",
    "> $A = \\theta$\n",
    ">\n",
    "> $B = y^T X$\n",
    "\n",
    "then:\n",
    "\n",
    "$$= \\left( y^T X \\right)^T$$\n",
    "\n",
    "> $$ \\nabla_\\theta \\tr (y^T X \\theta) =  X^T y $$"
   ]
  },
  {
   "cell_type": "markdown",
   "metadata": {},
   "source": [
    "`ii.` $$\\nabla_\\theta \\tr (\\theta^T X^T y) =$$\n",
    "\n",
    "**Prop:**\n",
    "\n",
    "> $\\tr A = \\tr A^T$\n",
    "\n",
    "$$= \\nabla_\\theta \\tr (\\theta^T X^T y)^T$$\n",
    "\n",
    "$$= \\nabla_\\theta \\tr (y^T X \\theta)$$\n",
    "\n",
    "Which is the same as `iii.`\n",
    "\n",
    "> $$\\nabla_\\theta \\tr (\\theta^T X^T y) = X^T y$$"
   ]
  },
  {
   "cell_type": "markdown",
   "metadata": {},
   "source": [
    "`iv.` Because $y$ does not depends on the parameters $\\theta$\n",
    "\n",
    "> $$\\nabla_\\theta \\tr (y^T y) = 0$$\n",
    "\n"
   ]
  },
  {
   "cell_type": "markdown",
   "metadata": {},
   "source": [
    "From before:\n",
    "\n",
    "> $$= \\frac{1}{2} \\left(\\nabla \\tr ( \\theta^T X^T X \\theta ) - \\nabla \\tr (\\theta^T X^T y) - \\nabla \\tr (y^T X \\theta) + \\nabla \\tr (y^T y) \\right) $$"
   ]
  },
  {
   "cell_type": "markdown",
   "metadata": {},
   "source": [
    "Putting all `i-iv` together:\n",
    "\n",
    "$$= \\frac{1}{2} \\left( 2 X^T X \\theta - X^T y - X^T y \\right)$$\n",
    "\n",
    "$$= X^T X \\theta - X^T y$$"
   ]
  },
  {
   "cell_type": "markdown",
   "metadata": {},
   "source": [
    "> |Gradient of loss|\n",
    "> |-|\n",
    "> |$$\\large{\\nabla_\\theta J(\\theta) = X^T \\left( X \\theta - y \\right)}$$|\n",
    "\n",
    "---"
   ]
  },
  {
   "cell_type": "markdown",
   "metadata": {},
   "source": [
    "We need the second derivatives for the Hessian.\n",
    "\n",
    "**Prop:**\n",
    "> if $y = A x $\n",
    ">\n",
    "> with $y \\in R^{m \\times 1}, A \\in R^{m \\times n}, x \\in R^{n\\times1}$\n",
    ">\n",
    "> then $\\frac{\\partial}{\\partial x} y = A$\n",
    "\n",
    "**Proof:**\n",
    "> $\\forall i \\in [1,m]$\n",
    ">\n",
    "> $$y_i = \\sum_{k=1}^n a_{ik} . x_k$$\n",
    ">\n",
    ">$\\forall j \\in [1,n]$\n",
    ">\n",
    "> $$\\frac{\\partial}{\\partial x_j} y_i = \\frac{\\partial}{\\partial x_j} \\sum_{k=1}^n a_{ik} . x_k$$\n",
    ">\n",
    "> $$= \\sum_{k=1}^n a_{ik} . \\mathbb{1}\\{j=k \\}$$\n",
    ">\n",
    "> $$\\frac{\\partial}{\\partial x_j} y_i = a_{ij}$$"
   ]
  },
  {
   "cell_type": "markdown",
   "metadata": {},
   "source": [
    "From before:\n",
    "\n",
    "$$\\nabla_\\theta J(\\theta) = X^T X \\theta - X^T y$$\n",
    "\n",
    "Using prop for taking derivatives:\n",
    "\n",
    ">|Solution:|\n",
    ">|-|\n",
    ">|$$\\boxed{\\large{\\mathcal{H}_\\theta J(\\theta) = X^T X}}$$|"
   ]
  },
  {
   "cell_type": "markdown",
   "metadata": {},
   "source": [
    "where:\n",
    "\n",
    "$$X^T X = \\begin{bmatrix}\n",
    "    \\sum_{j=1}^n (x_j^{(1)})^2 \\\\\n",
    "    \\sum_{j=1}^n (x_j^{(2)})^2 \\\\\n",
    "    \\vdots \\\\\n",
    "    \\sum_{j=1}^n (x_j^{(m)})^2\n",
    "\\end{bmatrix} \\in R^{m}$$"
   ]
  },
  {
   "cell_type": "markdown",
   "metadata": {},
   "source": [
    "> **(b)** Show that the first iteration of Newton’s method gives us\n",
    ">\n",
    "> $$\\theta^* = ( X^T X )^{-1} X^T \\vec{y}$$\n",
    ">\n",
    "> **the solution** to our least squares problem."
   ]
  },
  {
   "cell_type": "markdown",
   "metadata": {},
   "source": [
    "From **(a)**:\n",
    "\n",
    "$$\\nabla_\\theta J(\\theta) = X^T X \\theta - X^T y$$\n",
    "\n",
    "Because $J(\\theta)$ is quadratic, there are absolutes guarantees that it has **one and only one critical point**, which is going to be the **minimum**.\n",
    "\n",
    "if we set \n",
    "\n",
    "$$\\nabla_\\theta J(\\theta) = 0$$\n",
    "\n",
    "we'll find the **parameters $\\theta^*$ that minimize the cost function** $J(\\theta)$\n",
    "\n",
    "$$X^T X \\theta - X^T y = 0$$\n",
    "\n",
    "$$X^T X \\theta = X^T y$$\n",
    "\n",
    "$$(X^T X)^{-1}(X^T X) \\ \\theta = (X^T X)^{-1} X^T y$$\n",
    "\n",
    "> |Solution:|\n",
    "> |-|\n",
    "> |$$\\boxed{\\large{\\theta^* = (X^T X)^{-1} X^T y}}$$|"
   ]
  },
  {
   "cell_type": "markdown",
   "metadata": {},
   "source": [
    "**Proof** using **Newton's method**\n",
    "\n",
    "One iteration of Newton's method:\n",
    "\n",
    "$$\\theta^{(t+1)} = \\theta^{(t)} - H^{-1} \\nabla_\\theta J(\\theta)$$"
   ]
  },
  {
   "cell_type": "markdown",
   "metadata": {},
   "source": [
    "From before\n",
    "\n",
    "> $\\mathcal{H}_\\theta J(\\theta) = X^T X$\n",
    ">\n",
    "> $\\nabla_\\theta J(\\theta) = X^T X \\theta - X^T y$\n",
    "\n",
    "Replacing:\n",
    "\n",
    "$$\\theta^{(t+1)} = \\theta^{(t)} - ((X^T X)^{-1} (X^T X \\theta^{(t)} - X^T y)) $$"
   ]
  },
  {
   "cell_type": "markdown",
   "metadata": {},
   "source": [
    "Distribution:\n",
    "\n",
    "$$\\theta^{(t+1)} = \\theta^{(t)} - (X^T X)^{-1} (X^T X \\theta^{(t)}) + (X^T X)^{-1} (X^T y) $$"
   ]
  },
  {
   "cell_type": "markdown",
   "metadata": {},
   "source": [
    "Simplifying that identity:\n",
    "\n",
    "$$\\theta^{(t+1)} = \\theta^{(t)} - \\theta^{(t)} + (X^T X)^{-1} (X^T y) $$"
   ]
  },
  {
   "cell_type": "markdown",
   "metadata": {},
   "source": [
    "> |Solution:|\n",
    "> |-|\n",
    "> |$$\\boxed{\\large{\\theta^{(t+1)} = (X^T X)^{-1} X^T y}}$$|"
   ]
  },
  {
   "cell_type": "markdown",
   "metadata": {},
   "source": [
    "Notice that $\\theta^{(t)}$ can be **anything** to begin with, because it's simplified by $\\nabla_{\\theta^{(t)}} J(\\theta^{(t)})$.\n",
    "\n",
    "**More general:**\n",
    "\n",
    "> ***At any time $t$, Newton's method will find the optimal $\\theta^*$ in only one step.***"
   ]
  },
  {
   "cell_type": "markdown",
   "metadata": {},
   "source": [
    "## Locally-weighted logistic regression\n",
    "\n",
    "In this problem you will implement a locally-weighted version of logistic regression, where\n",
    "we weight different training examples differently according to the query point. The locally-\n",
    "weighted logistic regression problem is to maximize\n",
    "\n",
    "$$l(\\theta) = -\\frac \\lambda 2 \\theta^T \\theta + \\sum_{i=1}^m w^{(i)} \\left[ y^{(i)} log h_\\theta(x^{(i)}) + (1-y^{(i)}) log (1 - h_\\theta(x^{(i)})) \\right]$$"
   ]
  },
  {
   "cell_type": "markdown",
   "metadata": {
    "ExecuteTime": {
     "start_time": "2019-10-09T20:35:20.260Z"
    }
   },
   "source": [
    "The $-\\frac \\lambda 2 \\theta^T \\theta$ here is what is known as a regularization parameter, which will be discussed in a future lecture, but which we include here because it is needed for Newton’s method to\n",
    "perform well on this task.\n",
    "\n",
    "For the entirety of this problem you can use the value $\\lambda = 0.0001$."
   ]
  },
  {
   "cell_type": "markdown",
   "metadata": {},
   "source": [
    "Using this definition, the **Gradient** of $l(θ)$ is given by\n",
    "\n",
    "$$\\nabla_\\theta l(\\theta) = X^T z - \\lambda \\theta$$"
   ]
  },
  {
   "cell_type": "markdown",
   "metadata": {},
   "source": [
    "where $z \\in \\mathbb R^m$ is defined by\n",
    "\n",
    "$$z_i = w^{(i)} \\left(y^{(i)} - h_\\theta(x^{(i)})\\right)$$"
   ]
  },
  {
   "cell_type": "markdown",
   "metadata": {},
   "source": [
    "and the **Hessian** is given by\n",
    "\n",
    "$$H = X^T D X - \\lambda I$$"
   ]
  },
  {
   "cell_type": "markdown",
   "metadata": {},
   "source": [
    "where $D \\in \\mathbb R^{mxm}$ is a diagonal matrix with\n",
    "\n",
    "$$D_{ii} = -w^{(i)} h_\\theta(x^{(i)}) \\left(1 - h_\\theta(x^{(i)})\\right)$$"
   ]
  },
  {
   "cell_type": "markdown",
   "metadata": {},
   "source": [
    "For the sake of this problem you can just use the above formulas, but you should try to\n",
    "derive these results for yourself as well."
   ]
  },
  {
   "cell_type": "markdown",
   "metadata": {},
   "source": [
    "Given a query point $x$, we choose compute the weights\n",
    "\n",
    "$$w^{(i)} = exp \\left( - \\frac {||x-x^{(i)}||^2}{2\\tau^2}\\right)$$"
   ]
  },
  {
   "cell_type": "markdown",
   "metadata": {},
   "source": [
    "Much like the locally weighted linear regression that was discussed in class, this weighting\n",
    "scheme gives more when the “nearby” points when predicting the class of a new example."
   ]
  },
  {
   "cell_type": "markdown",
   "metadata": {},
   "source": [
    "(a) Implement the Newton-Raphson algorithm for optimizing $l(\\theta)$ for a **new query point** $x$, and use this to **predict the class** of $x$.\n",
    "\n",
    "The q2/ directory contains data and code for this problem.\n",
    "\n",
    "You should implement the `y = lwlr(X train, y train, x, tau)` function in the *lwlr.m* file.\n",
    "\n",
    "This function takes as input the training set (the X_train and y_train matrices, in the form described in the class notes), a new query point $x$ and the weight bandwitdh tau $\\tau$.\n",
    "\n",
    "Given this input the function should\n",
    "\n",
    "1. **compute weights $w^{(i)}$ *for each training example***, using the formula above\n",
    "\n",
    "2. **maximize** $l(\\theta)$ using Newton’s method, and finally\n",
    "\n",
    "3. output $y = \\mathbb 1\\{h_\\theta(x) > 0.5\\}$ as the **prediction**.\n",
    "\n",
    "We provide two additional functions that might help.\n",
    "\n",
    "The `[X train, y train] = load data;` function will load the matrices from files in the *data/* folder.\n",
    "\n",
    "The function `plot_lwlr(X train, y train, tau, resolution)` will plot the resulting classifier (assuming you have properly implemented *lwlr.m*).\n",
    "\n",
    "This function **evaluates** the *locally weighted logistic regression classifier* over a **large grid of points** and plots the resulting prediction as blue (predicting y = 0) or orange (predicting y = 1).\n",
    "\n",
    "Depending on how fast your lwlr function is, creating the plot might take some time, so we recommend debugging your code with resolution = 50; and later increase it to at least 200 to get a better idea of the decision boundary.\n",
    "\n",
    "**(b)** Evaluate the system with a **variety of different bandwidth parameters Tau** $\\tau$.\n",
    "\n",
    "In particular, try $\\tau = 0.01, 0.05, 0.1, 0.5, 1.0, 5.0$.\n",
    "\n",
    "How does the classification boundary change when varying this parameter? \n",
    "\n",
    "Can you predict what the decision boundary of ordinary (unweighted) logistic regression would look like?"
   ]
  },
  {
   "cell_type": "markdown",
   "metadata": {},
   "source": [
    "## Plotting the data"
   ]
  },
  {
   "cell_type": "code",
   "execution_count": 266,
   "metadata": {
    "ExecuteTime": {
     "end_time": "2019-10-09T20:03:56.636321Z",
     "start_time": "2019-10-09T20:03:56.631001Z"
    }
   },
   "outputs": [
    {
     "name": "stdout",
     "output_type": "stream",
     "text": [
      "x data loaded with shape (69, 2)\n",
      "y data loaded with shape (69,)\n"
     ]
    }
   ],
   "source": [
    "import numpy as np\n",
    "\n",
    "def load_data():\n",
    "    x = np.loadtxt('./ps1-q2/data/x.dat')\n",
    "    y = np.loadtxt('./ps1-q2/data/y.dat')\n",
    "    print('x data loaded with shape {}'.format(x.shape))\n",
    "    print('y data loaded with shape {}'.format(y.shape))\n",
    "    return x,y\n",
    "x,y = load_data()"
   ]
  },
  {
   "cell_type": "code",
   "execution_count": 267,
   "metadata": {
    "ExecuteTime": {
     "end_time": "2019-10-09T20:03:56.793022Z",
     "start_time": "2019-10-09T20:03:56.638036Z"
    }
   },
   "outputs": [
    {
     "data": {
      "image/png": "[encoded data removed]",
      "text/plain": [
       "<Figure size 432x288 with 1 Axes>"
      ]
     },
     "metadata": {
      "needs_background": "light"
     },
     "output_type": "display_data"
    }
   ],
   "source": [
    "import matplotlib.pyplot as plt\n",
    "plt.scatter(x[y==0][:,0], x[y==0][:,1], marker='o')\n",
    "plt.scatter(x[y==1][:,0], x[y==1][:,1], marker='x')\n",
    "plt.show()"
   ]
  },
  {
   "cell_type": "code",
   "execution_count": 268,
   "metadata": {
    "ExecuteTime": {
     "end_time": "2019-10-09T20:03:56.805897Z",
     "start_time": "2019-10-09T20:03:56.795434Z"
    }
   },
   "outputs": [],
   "source": [
    "def weight(x, xi, tau):\n",
    "    # Squared Exponential kernel\n",
    "    return np.exp(-1./(2*tau**2) * np.linalg.norm((x-xi), ord=2))\n",
    "\n",
    "def sigmoid(z):\n",
    "    return 1./(1+np.exp(-z))\n",
    "\n",
    "def h(theta, xi):\n",
    "    # Hypothesis h_theta(xi)\n",
    "    linear = np.dot(np.transpose(theta), xi)\n",
    "    return sigmoid(linear)\n",
    "\n",
    "def locally_weighted_logistic_regression(X_train, y_train, x, tau=0.01, lambd=1e-4):\n",
    "    # Adding bias column\n",
    "    X_train = np.c_[np.ones(69), X_train]\n",
    "    x = np.hstack(([1], x))\n",
    "    # Number of features\n",
    "    n = X_train.shape[1]\n",
    "    # Number of training examples\n",
    "    m = len(y)\n",
    "    # Weights theta in R^n\n",
    "    theta = np.zeros(n)\n",
    "    # lambda: Regularization parameter \n",
    "    # Regularization matrix for the Hessian\n",
    "    regul = np.eye(n) * lambd\n",
    "    # Diagonal matrix\n",
    "    D = np.eye(m)\n",
    "    #diag = np.asarray([-weight(x, xi, tau)*(yi - h(theta, xi))*(1 - (yi - h(theta, xi))) for xi, yi in zip(X_train, y_train)])\n",
    "    # Compute usefull values to rehuse on D and z\n",
    "    h_theta = [h(theta, X_train[i]) for i in range(m)]\n",
    "    w_tau   = [weight(x, X_train[i], tau) for i in range(m)]\n",
    "    #diag = [-weight(x, X_train[i], tau)*(h(theta, X_train[i]))*(1 - h(theta, X_train[i])) for i in range(m)]\n",
    "    for i in range(m):\n",
    "        D[i,i] = -w_tau[i]*h_theta[i]*(1 - h_theta[i])\n",
    "    # Hessian of J(0)\n",
    "    H = np.dot(np.transpose(X_train), np.dot(D, X_train)) - regul\n",
    "    # inverse of H\n",
    "    #iH = np.linalg.inv(H)\n",
    "    iH = np.linalg.pinv(H)\n",
    "    #\n",
    "    #z = np.array([weight(x, xi, tau)*(yi-h(theta, xi)) for xi, yi in zip(X_train, y_train)])\n",
    "    #z = np.array([weight(x, X_train[i], tau)*(y_train[i]-h(theta, X_train[i])) for i in range(m)])\n",
    "    z = np.array([w_tau[i]*(y_train[i]-h_theta[i]) for i in range(m)])\n",
    "    # Gradient of J(0)\n",
    "    gradJ = np.matmul(np.transpose(X_train), z) - lambd * theta\n",
    "    # Newton's update\n",
    "    theta = theta - np.dot(iH, gradJ)\n",
    "    return h(theta, x)"
   ]
  },
  {
   "cell_type": "code",
   "execution_count": 269,
   "metadata": {
    "ExecuteTime": {
     "end_time": "2019-10-09T20:03:56.812048Z",
     "start_time": "2019-10-09T20:03:56.808174Z"
    }
   },
   "outputs": [],
   "source": [
    "def lwlr(X_train, y_train, x, tau=0.2):\n",
    "    return locally_weighted_logistic_regression(X_train, y_train, x, tau)"
   ]
  },
  {
   "cell_type": "code",
   "execution_count": 270,
   "metadata": {
    "ExecuteTime": {
     "end_time": "2019-10-09T20:03:56.819058Z",
     "start_time": "2019-10-09T20:03:56.813951Z"
    }
   },
   "outputs": [],
   "source": [
    "# For time debugging\n",
    "#%lprun?\n",
    "#%load_ext line_profiler\n",
    "#%lprun -f locally_weighted_logistic_regression locally_weighted_logistic_regression(x, y, point, 0.1)"
   ]
  },
  {
   "cell_type": "markdown",
   "metadata": {},
   "source": [
    "### Evaluate new point"
   ]
  },
  {
   "cell_type": "code",
   "execution_count": 271,
   "metadata": {
    "ExecuteTime": {
     "end_time": "2019-10-09T20:03:56.823802Z",
     "start_time": "2019-10-09T20:03:56.820830Z"
    }
   },
   "outputs": [],
   "source": [
    "# New point to evaluate\n",
    "point = np.array([-0.6, 0.7])"
   ]
  },
  {
   "cell_type": "markdown",
   "metadata": {},
   "source": [
    "#### Lets plot it"
   ]
  },
  {
   "cell_type": "code",
   "execution_count": 272,
   "metadata": {
    "ExecuteTime": {
     "end_time": "2019-10-09T20:03:56.980461Z",
     "start_time": "2019-10-09T20:03:56.825734Z"
    }
   },
   "outputs": [
    {
     "data": {
      "image/png": "[encoded data removed]",
      "text/plain": [
       "<Figure size 432x288 with 1 Axes>"
      ]
     },
     "metadata": {
      "needs_background": "light"
     },
     "output_type": "display_data"
    }
   ],
   "source": [
    "import matplotlib.pyplot as plt\n",
    "plt.scatter(x[y==0][:,0], x[y==0][:,1], marker='o')\n",
    "plt.scatter(x[y==1][:,0], x[y==1][:,1], marker='x')\n",
    "plt.scatter(point[0], point[1], marker='*', s=200, c='r')\n",
    "plt.show()"
   ]
  },
  {
   "cell_type": "markdown",
   "metadata": {},
   "source": [
    "#### LWLR Prediction:"
   ]
  },
  {
   "cell_type": "code",
   "execution_count": 273,
   "metadata": {
    "ExecuteTime": {
     "end_time": "2019-10-09T20:03:56.987231Z",
     "start_time": "2019-10-09T20:03:56.982010Z"
    }
   },
   "outputs": [
    {
     "data": {
      "text/plain": [
       "0.12068918648271217"
      ]
     },
     "execution_count": 273,
     "metadata": {},
     "output_type": "execute_result"
    }
   ],
   "source": [
    "locally_weighted_logistic_regression(x, y, point, tau=0.2)"
   ]
  },
  {
   "cell_type": "markdown",
   "metadata": {},
   "source": [
    "Very close to class 0"
   ]
  },
  {
   "cell_type": "markdown",
   "metadata": {},
   "source": [
    "#### Predictions and confidence"
   ]
  },
  {
   "cell_type": "code",
   "execution_count": 274,
   "metadata": {
    "ExecuteTime": {
     "end_time": "2019-10-09T20:03:56.993139Z",
     "start_time": "2019-10-09T20:03:56.988686Z"
    }
   },
   "outputs": [],
   "source": [
    "# New points to evaluate\n",
    "point1 = np.array([-0.6, 0.7])\n",
    "point2 = np.array([0.4, -0.7])\n",
    "point3 = np.array([0.4, 0.0])"
   ]
  },
  {
   "cell_type": "code",
   "execution_count": 275,
   "metadata": {
    "ExecuteTime": {
     "end_time": "2019-10-09T20:03:57.176383Z",
     "start_time": "2019-10-09T20:03:56.995117Z"
    }
   },
   "outputs": [
    {
     "data": {
      "image/png": "[encoded data removed]",
      "text/plain": [
       "<Figure size 432x288 with 1 Axes>"
      ]
     },
     "metadata": {
      "needs_background": "light"
     },
     "output_type": "display_data"
    }
   ],
   "source": [
    "import matplotlib.pyplot as plt\n",
    "plt.scatter(x[y==0][:,0], x[y==0][:,1], marker='o')\n",
    "plt.scatter(x[y==1][:,0], x[y==1][:,1], marker='x')\n",
    "\n",
    "plt.scatter(point1[0], point1[1], marker='*', s=200, c='r')\n",
    "plt.text(point1[0]+0.04, point1[1]-0.05, '1', size=20)\n",
    "\n",
    "plt.scatter(point2[0], point2[1], marker='*', s=200, c='r')\n",
    "plt.text(point2[0]+0.04, point2[1]-0.05, '2', size=20)\n",
    "\n",
    "plt.scatter(point3[0], point3[1], marker='*', s=200, c='r')\n",
    "plt.text(point3[0]+0.04, point3[1]-0.05, '3', size=20)\n",
    "\n",
    "plt.show()"
   ]
  },
  {
   "cell_type": "code",
   "execution_count": 277,
   "metadata": {
    "ExecuteTime": {
     "end_time": "2019-10-09T20:04:01.574908Z",
     "start_time": "2019-10-09T20:04:01.563502Z"
    }
   },
   "outputs": [
    {
     "name": "stdout",
     "output_type": "stream",
     "text": [
      "Prediction for point1: 0.121 >> class: 0\n",
      "Prediction for point2: 0.878 >> class: 1\n",
      "Prediction for point3: 0.548 >> class: 1\n"
     ]
    }
   ],
   "source": [
    "print('Prediction for point1: %.3f >> class: %d' % (lwlr(x, y, point1), round(lwlr(x, y, point1))))\n",
    "print('Prediction for point2: %.3f >> class: %d' % (lwlr(x, y, point2), round(lwlr(x, y, point2))))\n",
    "print('Prediction for point3: %.3f >> class: %d' % (lwlr(x, y, point3), round(lwlr(x, y, point3))))"
   ]
  },
  {
   "cell_type": "code",
   "execution_count": 278,
   "metadata": {
    "ExecuteTime": {
     "end_time": "2019-10-09T20:04:05.111448Z",
     "start_time": "2019-10-09T20:04:02.624296Z"
    }
   },
   "outputs": [
    {
     "data": {
      "image/png": "[encoded data removed]",
      "text/plain": [
       "<Figure size 576x576 with 1 Axes>"
      ]
     },
     "metadata": {
      "needs_background": "light"
     },
     "output_type": "display_data"
    }
   ],
   "source": [
    "figure = plt.gcf() # get current figure\n",
    "figure.set_size_inches(8, 8)\n",
    "# when saving, specify the DPI\n",
    "\n",
    "def lwlr_grid(X, y, i, j, res, tau, lambd):\n",
    "    return locally_weighted_logistic_regression(X, y, np.asarray([2*i/(res-1)-1, 2*j/(res-1)-1]), tau, lambd)\n",
    "\n",
    "def plot_lwlr(X, y, tau, lambd=1e-4, res=50, save=False, idx=0):\n",
    "    # Evaluates a grid of (res x res) points (x0,x1)\n",
    "    x = np.zeros(2)\n",
    "    pred = np.ndarray((res,res))\n",
    "    x0s = 2*np.arange(0, res)/(res-1) - 1\n",
    "    x1s = 2*np.arange(0, res)/(res-1) - 1\n",
    "    for i in range(res):\n",
    "        for j in range(res):\n",
    "            #x[0] = 2*i/(res-1) - 1\n",
    "            #x[1] = 2*j/(res-1) - 1\n",
    "            pred[j,i] = locally_weighted_logistic_regression(X, y, [x0s[i], x1s[j]], tau, lambd)\n",
    "    plt.imshow(pred, extent=[-1, 1, -1, 1], aspect='equal', vmin=0.0, vmax=1.0, origin='lower')\n",
    "    plt.scatter(X[y==0][:,0], X[y==0][:,1], marker='o')\n",
    "    plt.scatter(X[y==1][:,0], X[y==1][:,1], marker='x')\n",
    "    plt.title(r'$w=exp(-1/(2\\tau^2) * || x-x_i||^2)$, $\\tau$'+'= {0:.3f}'.format(tau))\n",
    "    if save:\n",
    "        plt.savefig('./animation/{}.png'.format(idx), dpi=100)\n",
    "        print('Saved ./animation/{}.png'.format(idx))\n",
    "        plt.close()\n",
    "    else:\n",
    "        plt.show()\n",
    "    \n",
    "plot_lwlr(x, y, tau=0.2, lambd=1e-4, res=50)"
   ]
  },
  {
   "cell_type": "markdown",
   "metadata": {},
   "source": [
    "**(b)**\n",
    "\n",
    "## Incidence of Tau $\\tau$\n",
    "\n",
    "The next for loop tries several Tau values from 0.01 to 1.2, and saves the corresponding colormap with the predicted grid values as before.\n",
    "\n",
    "Online animations should be loaded just after that cell."
   ]
  },
  {
   "cell_type": "code",
   "execution_count": null,
   "metadata": {
    "ExecuteTime": {
     "start_time": "2019-10-09T20:04:33.674Z"
    },
    "scrolled": true
   },
   "outputs": [
    {
     "name": "stdout",
     "output_type": "stream",
     "text": [
      "Saved ./animation/0.png\n",
      "Saved ./animation/1.png\n",
      "Saved ./animation/2.png\n",
      "Saved ./animation/3.png\n",
      "Saved ./animation/4.png\n",
      "Saved ./animation/5.png\n",
      "Saved ./animation/6.png\n",
      "Saved ./animation/7.png\n",
      "Saved ./animation/8.png\n",
      "Saved ./animation/9.png\n",
      "Saved ./animation/10.png\n",
      "Saved ./animation/11.png\n",
      "Saved ./animation/12.png\n",
      "Saved ./animation/13.png\n",
      "Saved ./animation/14.png\n",
      "Saved ./animation/15.png\n",
      "Saved ./animation/16.png\n",
      "Saved ./animation/17.png\n",
      "Saved ./animation/18.png\n",
      "Saved ./animation/19.png\n",
      "Saved ./animation/20.png\n",
      "Saved ./animation/21.png\n",
      "Saved ./animation/22.png\n",
      "Saved ./animation/23.png\n",
      "Saved ./animation/24.png\n",
      "Saved ./animation/25.png\n",
      "Saved ./animation/26.png\n",
      "Saved ./animation/27.png\n",
      "Saved ./animation/28.png\n",
      "Saved ./animation/29.png\n",
      "Saved ./animation/30.png\n",
      "Saved ./animation/31.png\n",
      "Saved ./animation/32.png\n",
      "Saved ./animation/33.png\n",
      "Saved ./animation/34.png\n",
      "Saved ./animation/35.png\n",
      "Saved ./animation/36.png\n",
      "Saved ./animation/37.png\n",
      "Saved ./animation/38.png\n",
      "Saved ./animation/39.png\n",
      "Saved ./animation/40.png\n",
      "Saved ./animation/41.png\n",
      "Saved ./animation/42.png\n",
      "Saved ./animation/43.png\n",
      "Saved ./animation/44.png\n",
      "Saved ./animation/45.png\n",
      "Saved ./animation/46.png\n",
      "Saved ./animation/47.png\n",
      "Saved ./animation/48.png\n",
      "Saved ./animation/49.png\n",
      "Saved ./animation/50.png\n",
      "Saved ./animation/51.png\n",
      "Saved ./animation/52.png\n",
      "Saved ./animation/53.png\n",
      "Saved ./animation/54.png\n",
      "Saved ./animation/55.png\n",
      "Saved ./animation/56.png\n",
      "Saved ./animation/57.png\n",
      "Saved ./animation/58.png\n",
      "Saved ./animation/59.png\n",
      "Saved ./animation/60.png\n",
      "Saved ./animation/61.png\n",
      "Saved ./animation/62.png\n",
      "Saved ./animation/63.png\n",
      "Saved ./animation/64.png\n",
      "Saved ./animation/65.png\n",
      "Saved ./animation/66.png\n",
      "Saved ./animation/67.png\n",
      "Saved ./animation/68.png\n",
      "Saved ./animation/69.png\n",
      "Saved ./animation/70.png\n",
      "Saved ./animation/71.png\n",
      "Saved ./animation/72.png\n",
      "Saved ./animation/73.png\n",
      "Saved ./animation/74.png\n",
      "Saved ./animation/75.png\n",
      "Saved ./animation/76.png\n",
      "Saved ./animation/77.png\n",
      "Saved ./animation/78.png\n",
      "Saved ./animation/79.png\n",
      "Saved ./animation/80.png\n",
      "Saved ./animation/81.png\n",
      "Saved ./animation/82.png\n",
      "Saved ./animation/83.png\n",
      "Saved ./animation/84.png\n",
      "Saved ./animation/85.png\n",
      "Saved ./animation/86.png\n",
      "Saved ./animation/87.png\n",
      "Saved ./animation/88.png\n",
      "Saved ./animation/89.png\n",
      "Saved ./animation/90.png\n",
      "Saved ./animation/91.png\n",
      "Saved ./animation/92.png\n",
      "Saved ./animation/93.png\n",
      "Saved ./animation/94.png\n",
      "Saved ./animation/95.png\n",
      "Saved ./animation/96.png\n",
      "Saved ./animation/97.png\n",
      "Saved ./animation/98.png\n"
     ]
    }
   ],
   "source": [
    "for idx, tau in enumerate(np.arange(0.01, 0.3, 0.001)):\n",
    "    plot_lwlr(x, y, tau, lambd=1e-4, res=200, save=True, idx=idx)"
   ]
  },
  {
   "cell_type": "markdown",
   "metadata": {
    "ExecuteTime": {
     "end_time": "2019-10-09T02:51:44.036597Z",
     "start_time": "2019-10-09T02:51:44.034415Z"
    }
   },
   "source": [
    "![](https://media.giphy.com/media/Qx5QKQCBj5WRsltbAP/giphy.gif)"
   ]
  },
  {
   "cell_type": "markdown",
   "metadata": {
    "ExecuteTime": {
     "end_time": "2019-10-09T02:05:35.248713Z",
     "start_time": "2019-10-09T02:05:35.244285Z"
    }
   },
   "source": [
    "### Questions:\n",
    "> How does the classification boundary change when varying this parameter?\n",
    "\n",
    "It makes the borders more or less difuse, changing the weights for each distances.\n",
    "\n",
    "* Bigger Tau > Similar weights for each other point\n",
    "* Smaller Tau > More importance to closed by points.\n",
    "\n",
    "> Can you predict what the decision boundary of ordinary (unweighted) logistic regression would look like?\n",
    "\n",
    "It will look pretty similar to the results of very large tau, which makes all weights $\\approx 1$\n",
    "\n",
    "$$w^{(i)} = exp \\left( - \\frac {||x-x^{(i)}||^2}{2\\tau^2}\\right)$$\n",
    "\n",
    "if $\\tau \\rightarrow \\infty$\n",
    "\n",
    "$$w^{(i)} \\approx exp \\left( 0 \\right)$$\n",
    "\n",
    "$$w^{(i)} \\approx 1$$\n",
    "\n",
    "So all points will have the same weight, as in unweighted logistic regression."
   ]
  },
  {
   "cell_type": "markdown",
   "metadata": {},
   "source": []
  },
  {
   "cell_type": "markdown",
   "metadata": {},
   "source": []
  }
 ],
 "metadata": {
  "kernelspec": {
   "display_name": "Python 3",
   "language": "python",
   "name": "python3"
  },
  "language_info": {
   "codemirror_mode": {
    "name": "ipython",
    "version": 3
   },
   "file_extension": ".py",
   "mimetype": "text/x-python",
   "name": "python",
   "nbconvert_exporter": "python",
   "pygments_lexer": "ipython3",
   "version": "3.7.3"
  },
  "toc": {
   "base_numbering": 1,
   "nav_menu": {},
   "number_sections": true,
   "sideBar": true,
   "skip_h1_title": false,
   "title_cell": "Table of Contents",
   "title_sidebar": "Contents",
   "toc_cell": false,
   "toc_position": {},
   "toc_section_display": true,
   "toc_window_display": false
  }
 },
 "nbformat": 4,
 "nbformat_minor": 2
}
